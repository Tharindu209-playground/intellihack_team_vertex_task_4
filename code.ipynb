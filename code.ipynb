{
 "cells": [
  {
   "cell_type": "code",
   "execution_count": null,
   "metadata": {},
   "outputs": [],
   "source": [
    "!pip install chardet"
   ]
  },
  {
   "cell_type": "code",
   "execution_count": null,
   "metadata": {},
   "outputs": [],
   "source": [
    "import numpy as np\n",
    "import pandas as pd\n",
    "import chardet\n",
    "import matplotlib.pyplot as plt\n",
    "import re\n",
    "from sklearn.preprocessing import LabelEncoder, MinMaxScaler\n",
    "from sklearn.model_selection import train_test_split\n",
    "from sklearn.linear_model import LinearRegression\n",
    "from sklearn.metrics import mean_absolute_error\n",
    "\n",
    "import ydata_profiling as pp"
   ]
  },
  {
   "cell_type": "code",
   "execution_count": null,
   "metadata": {},
   "outputs": [],
   "source": [
    "with open(\"Watches Bags Accessories.csv\", 'rb') as f:\n",
    "    rawdata = f.read()\n",
    "    result = chardet.detect(rawdata)\n",
    "    encoding = result['encoding']\n",
    "\n",
    "df = pd.read_csv(\"Watches Bags Accessories.csv\", encoding=encoding)\n"
   ]
  },
  {
   "cell_type": "code",
   "execution_count": null,
   "metadata": {},
   "outputs": [],
   "source": [
    "df.head()"
   ]
  },
  {
   "cell_type": "code",
   "execution_count": null,
   "metadata": {},
   "outputs": [],
   "source": [
    "df.info()  "
   ]
  },
  {
   "cell_type": "code",
   "execution_count": null,
   "metadata": {},
   "outputs": [],
   "source": [
    "pp.ProfileReport(df)"
   ]
  },
  {
   "cell_type": "code",
   "execution_count": null,
   "metadata": {},
   "outputs": [],
   "source": [
    "# Drop rows with missing values \n",
    "df.dropna(inplace=True)\n",
    "df.drop_duplicates(inplace=True)"
   ]
  },
  {
   "cell_type": "code",
   "execution_count": null,
   "metadata": {},
   "outputs": [],
   "source": [
    "df.head()"
   ]
  },
  {
   "cell_type": "code",
   "execution_count": null,
   "metadata": {},
   "outputs": [],
   "source": [
    "print(df['Currency'].unique())\n",
    "df.drop('Currency', axis=1)\n",
    "print(df)"
   ]
  },
  {
   "cell_type": "code",
   "execution_count": null,
   "metadata": {},
   "outputs": [],
   "source": [
    "def convert_rating(sold_count):\n",
    "    if '/5' in sold_count:\n",
    "        return float(sold_count.replace('/5', ''))\n",
    "    else:\n",
    "        return 5\n",
    "    \n",
    "df['Rating in Stars'] = df['Rating in Stars'].apply(convert_rating)"
   ]
  },
  {
   "cell_type": "code",
   "execution_count": null,
   "metadata": {},
   "outputs": [],
   "source": [
    "def convert_delivery(delivary):\n",
    "    if 'Free Delivery' in delivary:\n",
    "        return float(0)\n",
    "\n",
    "df['Delivery'] = df['Delivery'].apply(convert_delivery)"
   ]
  },
  {
   "cell_type": "code",
   "execution_count": null,
   "metadata": {},
   "outputs": [],
   "source": [
    "def convert_sold_count(sold_count):\n",
    "    if 'K Sold' in sold_count:\n",
    "        return int(sold_count.replace('K Sold', '')) * 1000\n",
    "    elif ' Sold' in sold_count:\n",
    "        return int(sold_count.replace(' Sold', ''))\n",
    "    else:\n",
    "        return int(sold_count)\n",
    "    \n",
    "df['Sold Count'] = df['Sold Count'].apply(convert_sold_count)"
   ]
  },
  {
   "cell_type": "code",
   "execution_count": null,
   "metadata": {},
   "outputs": [],
   "source": [
    "df['Voucher'].unique()\n",
    "\n",
    "def convert_Voucher(Voucher):\n",
    "    if ' Vouchers' in Voucher:\n",
    "        return int(Voucher.replace(' Vouchers', ''))\n",
    "    elif \"0\" in Voucher:\n",
    "        return int(0)\n",
    "    elif \"0\" in Voucher:\n",
    "        return int(1)\n",
    "    \n",
    "df['Voucher'] = df['Voucher'].apply(convert_Voucher)"
   ]
  },
  {
   "cell_type": "code",
   "execution_count": null,
   "metadata": {},
   "outputs": [],
   "source": [
    "scaler = MinMaxScaler()\n",
    "df[[\"current_price_scaled\", \"rating_count_scaled\"]] = scaler.fit_transform(df[[\"Current Price\", \"Rating Count\"]])"
   ]
  },
  {
   "cell_type": "code",
   "execution_count": null,
   "metadata": {},
   "outputs": [],
   "source": [
    "y = df[\"Category\"]\n",
    "X = df.drop('Category',axis=1)\n",
    "X_train, X_test, y_train, y_test = train_test_split(X, y, test_size=0.30, random_state = 0)"
   ]
  },
  {
   "cell_type": "code",
   "execution_count": null,
   "metadata": {},
   "outputs": [],
   "source": [
    "model = LinearRegression()\n",
    "model.fit(X_train, y_train)"
   ]
  },
  {
   "cell_type": "code",
   "execution_count": null,
   "metadata": {},
   "outputs": [],
   "source": [
    "y_pred = model.predict(X_test)\n",
    "mae = mean_absolute_error(y_test, y_pred)\n",
    "print(\"Mean Absolute Error:\", mae)"
   ]
  },
  {
   "cell_type": "code",
   "execution_count": null,
   "metadata": {},
   "outputs": [],
   "source": [
    "category_of_interest = \"Kids Watches\"\n",
    "category_data = df[df[\"Category\"] == category_of_interest]\n",
    "\n",
    "predicted_sales = model.predict(category_data[X.columns])\n",
    "actual_sales = category_data[\"Sold Count\"]\n",
    "\n",
    "plt.plot(category_data[\"date\"], actual_sales, label=\"Actual Sales\")\n",
    "plt.plot(category_data[\"date\"], predicted_sales, label=\"Predicted Sales\")\n",
    "plt.legend()\n",
    "plt.show()"
   ]
  },
  {
   "cell_type": "code",
   "execution_count": null,
   "metadata": {},
   "outputs": [],
   "source": [
    "feature_importances = pd.DataFrame({\"feature\": X.columns, \"importance\": model.feature_importances_})\n",
    "print(feature_importances.sort_values(by=\"importance\", ascending=False))"
   ]
  },
  {
   "cell_type": "code",
   "execution_count": null,
   "metadata": {},
   "outputs": [],
   "source": [
    "future_data = X_test\n",
    "future_sales = model.predict(future_data)\n",
    "\n",
    "# Visualize the forecasted trends\n",
    "for category in df[\"Category\"].unique():\n",
    "    category_data = future_data[future_data[\"Category\"] == category]\n",
    "    predicted_sales = model.predict(category_data[X.columns])\n",
    "    plt.plot(predicted_sales, label=category)\n",
    "\n",
    "plt.legend()\n",
    "plt.show()\n",
    "future_sales = model.predict(future_data)\n",
    "\n",
    "for category in df[\"Category\"].unique():\n",
    "    category_data = future_data[future_data[\"Category\"] == category]\n",
    "    predicted_sales = model.predict(category_data[X.columns])\n",
    "    plt.plot(predicted_sales, label=category)\n",
    "\n",
    "plt.legend()\n",
    "plt.show()"
   ]
  }
 ],
 "metadata": {
  "kernelspec": {
   "display_name": "Python 3",
   "language": "python",
   "name": "python3"
  },
  "language_info": {
   "codemirror_mode": {
    "name": "ipython",
    "version": 3
   },
   "file_extension": ".py",
   "mimetype": "text/x-python",
   "name": "python",
   "nbconvert_exporter": "python",
   "pygments_lexer": "ipython3",
   "version": "3.10.8"
  }
 },
 "nbformat": 4,
 "nbformat_minor": 2
}
